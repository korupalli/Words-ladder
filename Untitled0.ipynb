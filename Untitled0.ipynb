{
  "nbformat": 4,
  "nbformat_minor": 0,
  "metadata": {
    "colab": {
      "name": "Untitled0.ipynb",
      "provenance": [],
      "collapsed_sections": [],
      "mount_file_id": "1YOdH1Kmbywk1fwJ3g5VwiJ4n-8LsEuLz",
      "authorship_tag": "ABX9TyN+/9xySG2qlyEsm2lehaYC",
      "include_colab_link": true
    },
    "kernelspec": {
      "name": "python3",
      "display_name": "Python 3"
    }
  },
  "cells": [
    {
      "cell_type": "markdown",
      "metadata": {
        "id": "view-in-github",
        "colab_type": "text"
      },
      "source": [
        "<a href=\"https://colab.research.google.com/github/korupalli/Words-ladder/blob/master/Untitled0.ipynb\" target=\"_parent\"><img src=\"https://colab.research.google.com/assets/colab-badge.svg\" alt=\"Open In Colab\"/></a>"
      ]
    },
    {
      "cell_type": "code",
      "metadata": {
        "id": "Wg3mJ8E7cSYy",
        "colab_type": "code",
        "colab": {}
      },
      "source": [
        "import pandas as pd\n",
        "import numpy as np"
      ],
      "execution_count": 24,
      "outputs": []
    },
    {
      "cell_type": "markdown",
      "metadata": {
        "id": "-qq0rKu8Ao9J",
        "colab_type": "text"
      },
      "source": [
        "data = pd.read_csv('/content/drive/My Drive/Colab Notebooks/TweetsCOV19.tsv',sep = '\\t',skiprows = list(range(4467891,8935782)),usecols=range(11),iterator=True, chunksize=4460000)\n",
        "df = pd.concat(data, ignore_index=True)\n",
        "data2 = pd.read_csv('/content/drive/My Drive/Colab Notebooks/TweetsCOV19.tsv',sep = '\\t',skiprows = list(range(4467891)),usecols=range(11),iterator=True, chunksize=4460000)\n",
        "df2 = pd.concat(data2, ignore_index=True)\n",
        "frame = pd.concat([df,df2])"
      ]
    },
    {
      "cell_type": "code",
      "metadata": {
        "id": "aWBemLni6f0A",
        "colab_type": "code",
        "colab": {}
      },
      "source": [
        "frame = pd.concat([pd.read_csv('/content/drive/My Drive/Colab Notebooks/TweetsCOV19.tsv',sep = '\\t',skiprows = list(range(4467891,8935782)),usecols=range(11),header=None),pd.read_csv('/content/drive/My Drive/Colab Notebooks/TweetsCOV19.tsv',sep = '\\t',skiprows = list(range(4467891)),usecols=range(11),header=None)])\n",
        "\n",
        "frame.columns = ['Tweet Id', 'Username', 'Timestamp', 'Followers', 'Friends', 'Retweets', 'Favorites', 'Entities', 'Sentiment', 'Mentions', 'Hashtags']"
      ],
      "execution_count": 2,
      "outputs": []
    },
    {
      "cell_type": "code",
      "metadata": {
        "id": "U-WJTyInA4Hb",
        "colab_type": "code",
        "colab": {
          "base_uri": "https://localhost:8080/",
          "height": 34
        },
        "outputId": "f51b3e7c-53d1-485d-ddbb-ee4707849bd8"
      },
      "source": [
        "frame.shape"
      ],
      "execution_count": 3,
      "outputs": [
        {
          "output_type": "execute_result",
          "data": {
            "text/plain": [
              "(8077794, 11)"
            ]
          },
          "metadata": {
            "tags": []
          },
          "execution_count": 3
        }
      ]
    },
    {
      "cell_type": "code",
      "metadata": {
        "id": "rn9Bq9hRA6gu",
        "colab_type": "code",
        "colab": {
          "base_uri": "https://localhost:8080/",
          "height": 195
        },
        "outputId": "ba970483-9b8b-4b92-f7e9-2d325be75556"
      },
      "source": [
        "frame.head()"
      ],
      "execution_count": 26,
      "outputs": [
        {
          "output_type": "execute_result",
          "data": {
            "text/html": [
              "<div>\n",
              "<style scoped>\n",
              "    .dataframe tbody tr th:only-of-type {\n",
              "        vertical-align: middle;\n",
              "    }\n",
              "\n",
              "    .dataframe tbody tr th {\n",
              "        vertical-align: top;\n",
              "    }\n",
              "\n",
              "    .dataframe thead th {\n",
              "        text-align: right;\n",
              "    }\n",
              "</style>\n",
              "<table border=\"1\" class=\"dataframe\">\n",
              "  <thead>\n",
              "    <tr style=\"text-align: right;\">\n",
              "      <th></th>\n",
              "      <th>Tweet Id</th>\n",
              "      <th>Followers</th>\n",
              "      <th>Friends</th>\n",
              "      <th>Retweets</th>\n",
              "      <th>Favorites</th>\n",
              "      <th>Mentions</th>\n",
              "      <th>Hashtags</th>\n",
              "      <th>Day</th>\n",
              "      <th>Month</th>\n",
              "      <th>Date</th>\n",
              "      <th>Time</th>\n",
              "      <th>Year</th>\n",
              "      <th>Pos</th>\n",
              "      <th>Neg</th>\n",
              "    </tr>\n",
              "  </thead>\n",
              "  <tbody>\n",
              "    <tr>\n",
              "      <th>0</th>\n",
              "      <td>1178791787386814465</td>\n",
              "      <td>619</td>\n",
              "      <td>770</td>\n",
              "      <td>0</td>\n",
              "      <td>0</td>\n",
              "      <td>NaN</td>\n",
              "      <td>NaN</td>\n",
              "      <td>Mon</td>\n",
              "      <td>Sep</td>\n",
              "      <td>30</td>\n",
              "      <td>22</td>\n",
              "      <td>2019</td>\n",
              "      <td>2</td>\n",
              "      <td>-1</td>\n",
              "    </tr>\n",
              "    <tr>\n",
              "      <th>1</th>\n",
              "      <td>1178791985106153472</td>\n",
              "      <td>36365</td>\n",
              "      <td>19344</td>\n",
              "      <td>13</td>\n",
              "      <td>17</td>\n",
              "      <td>NaN</td>\n",
              "      <td>NaN</td>\n",
              "      <td>Mon</td>\n",
              "      <td>Sep</td>\n",
              "      <td>30</td>\n",
              "      <td>22</td>\n",
              "      <td>2019</td>\n",
              "      <td>1</td>\n",
              "      <td>-4</td>\n",
              "    </tr>\n",
              "    <tr>\n",
              "      <th>2</th>\n",
              "      <td>1178793230223183872</td>\n",
              "      <td>5018</td>\n",
              "      <td>1933</td>\n",
              "      <td>0</td>\n",
              "      <td>0</td>\n",
              "      <td>NaN</td>\n",
              "      <td>NaN</td>\n",
              "      <td>Mon</td>\n",
              "      <td>Sep</td>\n",
              "      <td>30</td>\n",
              "      <td>22</td>\n",
              "      <td>2019</td>\n",
              "      <td>2</td>\n",
              "      <td>-1</td>\n",
              "    </tr>\n",
              "    <tr>\n",
              "      <th>3</th>\n",
              "      <td>1178795172206919680</td>\n",
              "      <td>2219</td>\n",
              "      <td>971</td>\n",
              "      <td>0</td>\n",
              "      <td>0</td>\n",
              "      <td>NaN</td>\n",
              "      <td>NaN</td>\n",
              "      <td>Mon</td>\n",
              "      <td>Sep</td>\n",
              "      <td>30</td>\n",
              "      <td>22</td>\n",
              "      <td>2019</td>\n",
              "      <td>2</td>\n",
              "      <td>-1</td>\n",
              "    </tr>\n",
              "    <tr>\n",
              "      <th>4</th>\n",
              "      <td>1178798309491822592</td>\n",
              "      <td>9009</td>\n",
              "      <td>4943</td>\n",
              "      <td>26</td>\n",
              "      <td>89</td>\n",
              "      <td>NaN</td>\n",
              "      <td>VFS</td>\n",
              "      <td>Mon</td>\n",
              "      <td>Sep</td>\n",
              "      <td>30</td>\n",
              "      <td>22</td>\n",
              "      <td>2019</td>\n",
              "      <td>2</td>\n",
              "      <td>-1</td>\n",
              "    </tr>\n",
              "  </tbody>\n",
              "</table>\n",
              "</div>"
            ],
            "text/plain": [
              "              Tweet Id  Followers  Friends  Retweets  ...  Time  Year Pos Neg\n",
              "0  1178791787386814465        619      770         0  ...    22  2019   2  -1\n",
              "1  1178791985106153472      36365    19344        13  ...    22  2019   1  -4\n",
              "2  1178793230223183872       5018     1933         0  ...    22  2019   2  -1\n",
              "3  1178795172206919680       2219      971         0  ...    22  2019   2  -1\n",
              "4  1178798309491822592       9009     4943        26  ...    22  2019   2  -1\n",
              "\n",
              "[5 rows x 14 columns]"
            ]
          },
          "metadata": {
            "tags": []
          },
          "execution_count": 26
        }
      ]
    },
    {
      "cell_type": "code",
      "metadata": {
        "id": "gwdrzUIOE55h",
        "colab_type": "code",
        "colab": {}
      },
      "source": [
        "frame.columns = ['Tweet Id', 'Username', 'Timestamp', 'Followers', 'Friends', 'Retweets', 'Favorites', 'Entities', 'Sentiment', 'Mentions', 'Hashtags']"
      ],
      "execution_count": 5,
      "outputs": []
    },
    {
      "cell_type": "code",
      "metadata": {
        "id": "y_ATZGz3JZYb",
        "colab_type": "code",
        "colab": {}
      },
      "source": [
        "frame['Timestamp'] = frame.Timestamp.apply(lambda x: x.split())"
      ],
      "execution_count": 3,
      "outputs": []
    },
    {
      "cell_type": "code",
      "metadata": {
        "id": "HZNMKeCMP9HM",
        "colab_type": "code",
        "colab": {}
      },
      "source": [
        "frame['Day'] = frame.Timestamp.apply(lambda x: x[0])"
      ],
      "execution_count": 5,
      "outputs": []
    },
    {
      "cell_type": "code",
      "metadata": {
        "id": "iQprsDRxRuv3",
        "colab_type": "code",
        "colab": {}
      },
      "source": [
        "frame['Month'] = frame.Timestamp.apply(lambda x: x[1])\n",
        "frame['Date'] = frame.Timestamp.apply(lambda x: x[2])\n",
        "frame['Time'] = frame.Timestamp.apply(lambda x: x[3].split(':')[0])\n",
        "frame['Year'] = frame.Timestamp.apply(lambda x: x[5])"
      ],
      "execution_count": 7,
      "outputs": []
    },
    {
      "cell_type": "code",
      "metadata": {
        "id": "ieIcK0HXTMRG",
        "colab_type": "code",
        "colab": {}
      },
      "source": [
        "frame['Pos'] = frame.Sentiment.apply(lambda x: int(x.split()[0]))"
      ],
      "execution_count": 19,
      "outputs": []
    },
    {
      "cell_type": "code",
      "metadata": {
        "id": "Oneu8jzHURO6",
        "colab_type": "code",
        "colab": {}
      },
      "source": [
        "frame['Neg'] = frame.Sentiment.apply(lambda x: int(x.split()[1]))"
      ],
      "execution_count": 20,
      "outputs": []
    },
    {
      "cell_type": "code",
      "metadata": {
        "id": "h-UQ_KUVU3TC",
        "colab_type": "code",
        "colab": {}
      },
      "source": [
        "frame = frame.drop(columns=['Timestamp','Entities','Username','Sentiment'])"
      ],
      "execution_count": 22,
      "outputs": []
    },
    {
      "cell_type": "code",
      "metadata": {
        "id": "aFil2-y2VBMf",
        "colab_type": "code",
        "colab": {}
      },
      "source": [
        "frame.replace('null;', np.NaN,inplace=True)"
      ],
      "execution_count": 25,
      "outputs": []
    },
    {
      "cell_type": "code",
      "metadata": {
        "id": "OrbJdZpxV2rq",
        "colab_type": "code",
        "colab": {}
      },
      "source": [
        "x = 1"
      ],
      "execution_count": 31,
      "outputs": []
    },
    {
      "cell_type": "code",
      "metadata": {
        "id": "nGyQhWROWiQ5",
        "colab_type": "code",
        "colab": {
          "base_uri": "https://localhost:8080/",
          "height": 218
        },
        "outputId": "74b1bdd5-6d9a-475e-889a-4aafea46a50a"
      },
      "source": [
        "frame.Hashtags.loc[pd.notnull(frame.Hashtags)]"
      ],
      "execution_count": 42,
      "outputs": [
        {
          "output_type": "execute_result",
          "data": {
            "text/plain": [
              "4                                 VFS\n",
              "8                             Raiders\n",
              "16              PRC70 NationalDay2019\n",
              "17                              style\n",
              "21                          scwx ncwx\n",
              "                      ...            \n",
              "3609893              coronavirus ansa\n",
              "3609894     americanidol quarantinetv\n",
              "3609895                  coronavirus:\n",
              "3609896                       COVID19\n",
              "3609899    almost lockdown itvtonight\n",
              "Name: Hashtags, Length: 2435784, dtype: object"
            ]
          },
          "metadata": {
            "tags": []
          },
          "execution_count": 42
        }
      ]
    },
    {
      "cell_type": "code",
      "metadata": {
        "id": "OL3_OdfPXQPH",
        "colab_type": "code",
        "colab": {}
      },
      "source": [
        ""
      ],
      "execution_count": null,
      "outputs": []
    }
  ]
}